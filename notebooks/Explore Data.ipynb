{
 "cells": [
  {
   "cell_type": "markdown",
   "metadata": {
    "toc": true
   },
   "source": [
    "<h1>Table of Contents<span class=\"tocSkip\"></span></h1>\n",
    "<div class=\"toc\"><ul class=\"toc-item\"><li><span><a href=\"#Vocabulary-Size\" data-toc-modified-id=\"Vocabulary-Size-1\"><span class=\"toc-item-num\">1&nbsp;&nbsp;</span>Vocabulary Size</a></span><ul class=\"toc-item\"><li><span><a href=\"#top-k-words\" data-toc-modified-id=\"top-k-words-1.1\"><span class=\"toc-item-num\">1.1&nbsp;&nbsp;</span>top k words</a></span></li><li><span><a href=\"#plot-of-terms-frequency\" data-toc-modified-id=\"plot-of-terms-frequency-1.2\"><span class=\"toc-item-num\">1.2&nbsp;&nbsp;</span>plot of terms frequency</a></span></li></ul></li><li><span><a href=\"#Labels\" data-toc-modified-id=\"Labels-2\"><span class=\"toc-item-num\">2&nbsp;&nbsp;</span>Labels</a></span><ul class=\"toc-item\"><li><span><a href=\"#Number-of-topics-per-doc\" data-toc-modified-id=\"Number-of-topics-per-doc-2.1\"><span class=\"toc-item-num\">2.1&nbsp;&nbsp;</span>Number of topics per doc</a></span></li><li><span><a href=\"#topics-in-train-but-not-in-test\" data-toc-modified-id=\"topics-in-train-but-not-in-test-2.2\"><span class=\"toc-item-num\">2.2&nbsp;&nbsp;</span>topics in train but not in test</a></span></li><li><span><a href=\"#topics-in-test-but-not-in-train\" data-toc-modified-id=\"topics-in-test-but-not-in-train-2.3\"><span class=\"toc-item-num\">2.3&nbsp;&nbsp;</span>topics in test but not in train</a></span></li><li><span><a href=\"#Train-topics-freq\" data-toc-modified-id=\"Train-topics-freq-2.4\"><span class=\"toc-item-num\">2.4&nbsp;&nbsp;</span>Train topics freq</a></span></li><li><span><a href=\"#List-of-learned-and-predicted-topics\" data-toc-modified-id=\"List-of-learned-and-predicted-topics-2.5\"><span class=\"toc-item-num\">2.5&nbsp;&nbsp;</span>List of learned and predicted topics</a></span></li></ul></li><li><span><a href=\"#Document-Lengths\" data-toc-modified-id=\"Document-Lengths-3\"><span class=\"toc-item-num\">3&nbsp;&nbsp;</span>Document Lengths</a></span></li></ul></div>"
   ]
  },
  {
   "cell_type": "code",
   "execution_count": 108,
   "metadata": {},
   "outputs": [],
   "source": [
    "import os\n",
    "import pickle\n",
    "import pandas as pd\n",
    "import matplotlib.pyplot as plt\n",
    "import seaborn as sns\n",
    "import numpy as np\n",
    "\n",
    "from collections import Counter"
   ]
  },
  {
   "cell_type": "code",
   "execution_count": 109,
   "metadata": {},
   "outputs": [],
   "source": [
    "vocabulary_path = '../../statistics_out/vocab.pckl'\n",
    "train_path = '../../data/reuters_prep_train.txt'\n",
    "test_path = '../../data/reuters_prep_test.txt'"
   ]
  },
  {
   "cell_type": "markdown",
   "metadata": {},
   "source": [
    "## Vocabulary Size"
   ]
  },
  {
   "cell_type": "code",
   "execution_count": 110,
   "metadata": {},
   "outputs": [],
   "source": [
    "with open(vocabulary_path, mode='rb') as stream:\n",
    "    vocab_dict = pickle.load(stream)"
   ]
  },
  {
   "cell_type": "code",
   "execution_count": 21,
   "metadata": {},
   "outputs": [
    {
     "data": {
      "text/plain": [
       "28391"
      ]
     },
     "execution_count": 21,
     "metadata": {},
     "output_type": "execute_result"
    }
   ],
   "source": [
    "len(vocab_dict)"
   ]
  },
  {
   "cell_type": "code",
   "execution_count": 22,
   "metadata": {},
   "outputs": [],
   "source": [
    "vocab_sorted = dict(sorted([(k, v) for k, v in vocab_dict.items()], key=lambda pair: pair[1], reverse=True))"
   ]
  },
  {
   "cell_type": "markdown",
   "metadata": {},
   "source": [
    "### top k words"
   ]
  },
  {
   "cell_type": "code",
   "execution_count": 23,
   "metadata": {},
   "outputs": [
    {
     "name": "stdout",
     "output_type": "stream",
     "text": [
      "said       -  30067\n",
      "mln        -  16079\n",
      "dlrs       -  12702\n",
      "pct        -  10494\n",
      "v          -  9387\n",
      "year       -  8306\n",
      "share      -  6042\n",
      "billion    -  5974\n",
      "company    -  5942\n",
      "ct         -  5919\n",
      "bank       -  5146\n",
      "u          -  4956\n",
      "would      -  4760\n",
      "inc        -  4143\n",
      "loss       -  4091\n",
      "net        -  3887\n",
      "new        -  3584\n",
      "corp       -  3572\n",
      "stock      -  3374\n",
      "market     -  3334\n",
      "price      -  3198\n",
      "sale       -  3130\n",
      "one        -  3084\n",
      "last       -  3044\n",
      "also       -  2895\n",
      "two        -  2886\n",
      "profit     -  2619\n",
      "shr        -  2571\n",
      "co         -  2554\n",
      "rate       -  2497\n",
      "april      -  2476\n",
      "march      -  2401\n",
      "month      -  2390\n",
      "debt       -  2146\n",
      "trade      -  2139\n",
      "exchange   -  2092\n",
      "oil        -  2070\n",
      "may        -  2050\n",
      "first      -  2011\n",
      "per        -  1960\n",
      "government -  1931\n",
      "tonne      -  1919\n",
      "three      -  1891\n",
      "group      -  1890\n",
      "agreement  -  1874\n",
      "official   -  1859\n",
      "security   -  1838\n",
      "february   -  1808\n",
      "dlr        -  1778\n",
      "note       -  1733\n",
      "interest   -  1700\n",
      "january    -  1689\n"
     ]
    }
   ],
   "source": [
    "k = 50\n",
    "for i, (word, count) in enumerate(vocab_sorted.items()):\n",
    "    print(f'{word: <10s} - {count: 5d}')\n",
    "    if i > k:\n",
    "        break"
   ]
  },
  {
   "cell_type": "markdown",
   "metadata": {},
   "source": [
    "Check tokens with len=1 (u, v)"
   ]
  },
  {
   "cell_type": "markdown",
   "metadata": {},
   "source": [
    "### plot of terms frequency"
   ]
  },
  {
   "cell_type": "code",
   "execution_count": 39,
   "metadata": {},
   "outputs": [
    {
     "data": {
      "image/png": "[encoded data removed]",
      "text/plain": [
       "<Figure size 720x432 with 1 Axes>"
      ]
     },
     "metadata": {
      "needs_background": "light"
     },
     "output_type": "display_data"
    }
   ],
   "source": [
    "terms_freq = list(vocab_soretd.values())\n",
    "# plt.plot(terms_freq[10:])\n",
    "plt.semilogy(terms_freq)\n",
    "plt.xlabel('term id')\n",
    "plt.ylabel('LOG(term freq)')\n",
    "fig = plt.gcf()\n",
    "fig.set_size_inches(10, 6)"
   ]
  },
  {
   "cell_type": "code",
   "execution_count": 46,
   "metadata": {},
   "outputs": [
    {
     "data": {
      "text/html": [
       "<div>\n",
       "<style scoped>\n",
       "    .dataframe tbody tr th:only-of-type {\n",
       "        vertical-align: middle;\n",
       "    }\n",
       "\n",
       "    .dataframe tbody tr th {\n",
       "        vertical-align: top;\n",
       "    }\n",
       "\n",
       "    .dataframe thead th {\n",
       "        text-align: right;\n",
       "    }\n",
       "</style>\n",
       "<table border=\"1\" class=\"dataframe\">\n",
       "  <thead>\n",
       "    <tr style=\"text-align: right;\">\n",
       "      <th></th>\n",
       "      <th>0</th>\n",
       "    </tr>\n",
       "  </thead>\n",
       "  <tbody>\n",
       "    <tr>\n",
       "      <th>count</th>\n",
       "      <td>28391.000000</td>\n",
       "    </tr>\n",
       "    <tr>\n",
       "      <th>mean</th>\n",
       "      <td>30.718819</td>\n",
       "    </tr>\n",
       "    <tr>\n",
       "      <th>std</th>\n",
       "      <td>285.976514</td>\n",
       "    </tr>\n",
       "    <tr>\n",
       "      <th>min</th>\n",
       "      <td>1.000000</td>\n",
       "    </tr>\n",
       "    <tr>\n",
       "      <th>1%</th>\n",
       "      <td>1.000000</td>\n",
       "    </tr>\n",
       "    <tr>\n",
       "      <th>10%</th>\n",
       "      <td>1.000000</td>\n",
       "    </tr>\n",
       "    <tr>\n",
       "      <th>25%</th>\n",
       "      <td>1.000000</td>\n",
       "    </tr>\n",
       "    <tr>\n",
       "      <th>50%</th>\n",
       "      <td>2.000000</td>\n",
       "    </tr>\n",
       "    <tr>\n",
       "      <th>75%</th>\n",
       "      <td>8.000000</td>\n",
       "    </tr>\n",
       "    <tr>\n",
       "      <th>99%</th>\n",
       "      <td>531.000000</td>\n",
       "    </tr>\n",
       "    <tr>\n",
       "      <th>max</th>\n",
       "      <td>30067.000000</td>\n",
       "    </tr>\n",
       "  </tbody>\n",
       "</table>\n",
       "</div>"
      ],
      "text/plain": [
       "                  0\n",
       "count  28391.000000\n",
       "mean      30.718819\n",
       "std      285.976514\n",
       "min        1.000000\n",
       "1%         1.000000\n",
       "10%        1.000000\n",
       "25%        1.000000\n",
       "50%        2.000000\n",
       "75%        8.000000\n",
       "99%      531.000000\n",
       "max    30067.000000"
      ]
     },
     "execution_count": 46,
     "metadata": {},
     "output_type": "execute_result"
    }
   ],
   "source": [
    "pd.DataFrame(terms_freq).describe(percentiles=[.01, .10, .25, .50, .75, .99])"
   ]
  },
  {
   "cell_type": "markdown",
   "metadata": {},
   "source": [
    "Half of the terms occur 2 or 1 times."
   ]
  },
  {
   "cell_type": "markdown",
   "metadata": {},
   "source": [
    "## Labels"
   ]
  },
  {
   "cell_type": "code",
   "execution_count": 59,
   "metadata": {},
   "outputs": [],
   "source": [
    "def read_data(data_path: str, sep: str = ','):\n",
    "    assert os.path.exists(data_path)\n",
    "    docs, topics, ids = [], [], []\n",
    "    with open(data_path) as stream:\n",
    "        lines = stream.readlines()\n",
    "        for line in lines:\n",
    "            doc, doc_topics, doc_newid = line.strip().split(sep)\n",
    "            docs.append(doc)\n",
    "            topics.append(doc_topics)\n",
    "            ids.append(doc_newid)\n",
    "    return docs, topics, ids"
   ]
  },
  {
   "cell_type": "code",
   "execution_count": 61,
   "metadata": {},
   "outputs": [],
   "source": [
    "_, train_topics, _ = read_data(train_path)\n",
    "_, test_topics, _ = read_data(test_path)"
   ]
  },
  {
   "cell_type": "code",
   "execution_count": null,
   "metadata": {},
   "outputs": [],
   "source": [
    "train_topics = [t.split(' ') for t in train_topics]\n",
    "test_topics = [t.split(' ') for t in test_topics]"
   ]
  },
  {
   "cell_type": "code",
   "execution_count": 84,
   "metadata": {},
   "outputs": [
    {
     "data": {
      "text/plain": [
       "12282"
      ]
     },
     "execution_count": 84,
     "metadata": {},
     "output_type": "execute_result"
    }
   ],
   "source": [
    "# train size\n",
    "len(train_topics)"
   ]
  },
  {
   "cell_type": "code",
   "execution_count": 85,
   "metadata": {},
   "outputs": [
    {
     "data": {
      "text/plain": [
       "5876"
      ]
     },
     "execution_count": 85,
     "metadata": {},
     "output_type": "execute_result"
    }
   ],
   "source": [
    "# test size\n",
    "len(test_topics)"
   ]
  },
  {
   "cell_type": "markdown",
   "metadata": {},
   "source": [
    "### Number of topics per doc"
   ]
  },
  {
   "cell_type": "code",
   "execution_count": 82,
   "metadata": {},
   "outputs": [
    {
     "data": {
      "text/plain": [
       "[(1, 11269),\n",
       " (2, 738),\n",
       " (3, 159),\n",
       " (4, 54),\n",
       " (5, 30),\n",
       " (6, 13),\n",
       " (7, 6),\n",
       " (8, 4),\n",
       " (9, 4),\n",
       " (10, 3),\n",
       " (12, 1),\n",
       " (16, 1)]"
      ]
     },
     "execution_count": 82,
     "metadata": {},
     "output_type": "execute_result"
    }
   ],
   "source": [
    "Counter([len(t) for t in train_topics]).most_common(20)"
   ]
  },
  {
   "cell_type": "code",
   "execution_count": 83,
   "metadata": {},
   "outputs": [
    {
     "data": {
      "text/plain": [
       "[(1, 5343),\n",
       " (2, 368),\n",
       " (3, 99),\n",
       " (4, 34),\n",
       " (5, 13),\n",
       " (6, 7),\n",
       " (7, 3),\n",
       " (9, 2),\n",
       " (14, 2),\n",
       " (11, 2),\n",
       " (12, 1),\n",
       " (10, 1),\n",
       " (8, 1)]"
      ]
     },
     "execution_count": 83,
     "metadata": {},
     "output_type": "execute_result"
    }
   ],
   "source": [
    "Counter([len(t) for t in test_topics]).most_common(20)"
   ]
  },
  {
   "cell_type": "markdown",
   "metadata": {},
   "source": [
    "99% of the data has 3 and less topics.\n",
    "\n",
    "92% has 1 topic."
   ]
  },
  {
   "cell_type": "code",
   "execution_count": 95,
   "metadata": {},
   "outputs": [],
   "source": [
    "unique_topics_train = set([t for topics in train_topics for t in topics])\n",
    "unique_topics_test = set([t for topics in test_topics for t in topics])"
   ]
  },
  {
   "cell_type": "code",
   "execution_count": 96,
   "metadata": {},
   "outputs": [
    {
     "data": {
      "text/plain": [
       "115"
      ]
     },
     "execution_count": 96,
     "metadata": {},
     "output_type": "execute_result"
    }
   ],
   "source": [
    "len(unique_topics_train)"
   ]
  },
  {
   "cell_type": "code",
   "execution_count": 97,
   "metadata": {},
   "outputs": [
    {
     "data": {
      "text/plain": [
       "96"
      ]
     },
     "execution_count": 97,
     "metadata": {},
     "output_type": "execute_result"
    }
   ],
   "source": [
    "len(unique_topics_test)"
   ]
  },
  {
   "cell_type": "markdown",
   "metadata": {},
   "source": [
    "### topics in train but not in test"
   ]
  },
  {
   "cell_type": "code",
   "execution_count": 99,
   "metadata": {},
   "outputs": [
    {
     "data": {
      "text/plain": [
       "{'austdlr',\n",
       " 'can',\n",
       " 'castorseed',\n",
       " 'citruspulp',\n",
       " 'coconut',\n",
       " 'copra-cake',\n",
       " 'corn-oil',\n",
       " 'cornglutenfeed',\n",
       " 'cpu',\n",
       " 'dfl',\n",
       " 'dkr',\n",
       " 'fishmeal',\n",
       " 'lin-meal',\n",
       " 'linseed',\n",
       " 'peseta',\n",
       " 'plywood',\n",
       " 'pork-belly',\n",
       " 'rape-meal',\n",
       " 'red-bean',\n",
       " 'ringgit',\n",
       " 'rupiah',\n",
       " 'saudriyal',\n",
       " 'skr',\n",
       " 'wool'}"
      ]
     },
     "execution_count": 99,
     "metadata": {},
     "output_type": "execute_result"
    }
   ],
   "source": [
    "unique_topics_train - unique_topics_test"
   ]
  },
  {
   "cell_type": "markdown",
   "metadata": {},
   "source": [
    "### topics in test but not in train"
   ]
  },
  {
   "cell_type": "code",
   "execution_count": 101,
   "metadata": {},
   "outputs": [
    {
     "data": {
      "text/plain": [
       "{'bfr', 'cottonseed', 'f-cattle', 'hk', 'sfr'}"
      ]
     },
     "execution_count": 101,
     "metadata": {},
     "output_type": "execute_result"
    }
   ],
   "source": [
    "unique_topics_test - unique_topics_train"
   ]
  },
  {
   "cell_type": "markdown",
   "metadata": {},
   "source": [
    "### Train topics freq"
   ]
  },
  {
   "cell_type": "code",
   "execution_count": 103,
   "metadata": {},
   "outputs": [
    {
     "data": {
      "text/plain": [
       "[('NO_TOPIC', 5540),\n",
       " ('earn', 2687),\n",
       " ('acq', 1447),\n",
       " ('money-fx', 397),\n",
       " ('grain', 371),\n",
       " ('crude', 309),\n",
       " ('trade', 281),\n",
       " ('interest', 254),\n",
       " ('wheat', 192),\n",
       " ('ship', 178),\n",
       " ('corn', 148),\n",
       " ('oilseed', 108),\n",
       " ('sugar', 108),\n",
       " ('coffee', 97),\n",
       " ('gold', 92),\n",
       " ('veg-oil', 83),\n",
       " ('money-supply', 80),\n",
       " ('dlr', 80),\n",
       " ('gnp', 79),\n",
       " ('livestock', 70),\n",
       " ('soybean', 65),\n",
       " ('nat-gas', 63),\n",
       " ('bop', 55),\n",
       " ('cpi', 54),\n",
       " ('carcass', 48),\n",
       " ('copper', 46),\n",
       " ('reserves', 44),\n",
       " ('cocoa', 39),\n",
       " ('cotton', 37),\n",
       " ('jobs', 36),\n",
       " ('iron-steel', 35),\n",
       " ('rice', 34),\n",
       " ('barley', 33),\n",
       " ('alum', 32),\n",
       " ('rubber', 31),\n",
       " ('ipi', 31),\n",
       " ('meal-feed', 29),\n",
       " ('gas', 29),\n",
       " ('palm-oil', 28),\n",
       " ('yen', 26),\n",
       " ('silver', 21),\n",
       " ('zinc', 21),\n",
       " ('pet-chem', 20),\n",
       " ('sorghum', 18),\n",
       " ('rapeseed', 18),\n",
       " ('strategic-metal', 16),\n",
       " ('tin', 16),\n",
       " ('wpi', 16),\n",
       " ('orange', 15),\n",
       " ('lead', 15),\n",
       " ('retail', 14),\n",
       " ('hog', 14),\n",
       " ('heat', 14),\n",
       " ('soy-oil', 13),\n",
       " ('housing', 13),\n",
       " ('soy-meal', 12),\n",
       " ('fuel', 12),\n",
       " ('dmk', 10),\n",
       " ('lei', 9),\n",
       " ('lumber', 9),\n",
       " ('nickel', 8),\n",
       " ('stg', 8),\n",
       " ('oat', 7),\n",
       " ('tea', 7),\n",
       " ('sunseed', 6),\n",
       " ('sun-oil', 5),\n",
       " ('platinum', 5),\n",
       " ('rape-oil', 5),\n",
       " ('l-cattle', 5),\n",
       " ('groundnut', 5),\n",
       " ('plywood', 4),\n",
       " ('jet', 4),\n",
       " ('income', 4),\n",
       " ('coconut', 4),\n",
       " ('tapioca', 3),\n",
       " ('propane', 3),\n",
       " ('potato', 3),\n",
       " ('instal-debt', 3),\n",
       " ('coconut-oil', 3),\n",
       " ('inventories', 3),\n",
       " ('linseed', 2),\n",
       " ('copra-cake', 2),\n",
       " ('palmkernel', 2),\n",
       " ('cornglutenfeed', 2),\n",
       " ('wool', 2),\n",
       " ('saudriyal', 2),\n",
       " ('fishmeal', 2),\n",
       " ('palladium', 2),\n",
       " ('cpu', 2),\n",
       " ('austdlr', 2),\n",
       " ('naphtha', 2),\n",
       " ('pork-belly', 2),\n",
       " ('lin-oil', 1),\n",
       " ('rye', 1),\n",
       " ('red-bean', 1),\n",
       " ('groundnut-oil', 1),\n",
       " ('citruspulp', 1),\n",
       " ('rape-meal', 1),\n",
       " ('can', 1),\n",
       " ('dfl', 1),\n",
       " ('corn-oil', 1),\n",
       " ('peseta', 1),\n",
       " ('cotton-oil', 1),\n",
       " ('nzdlr', 1),\n",
       " ('rand', 1),\n",
       " ('ringgit', 1),\n",
       " ('castorseed', 1),\n",
       " ('castor-oil', 1),\n",
       " ('lit', 1),\n",
       " ('rupiah', 1),\n",
       " ('skr', 1),\n",
       " ('nkr', 1),\n",
       " ('dkr', 1),\n",
       " ('sun-meal', 1),\n",
       " ('lin-meal', 1)]"
      ]
     },
     "execution_count": 103,
     "metadata": {},
     "output_type": "execute_result"
    }
   ],
   "source": [
    "Counter([t for topics in train_topics for t in topics]).most_common(200)"
   ]
  },
  {
   "cell_type": "markdown",
   "metadata": {},
   "source": [
    "Tail of rare topics"
   ]
  },
  {
   "cell_type": "markdown",
   "metadata": {},
   "source": [
    "### List of learned and predicted topics"
   ]
  },
  {
   "cell_type": "code",
   "execution_count": 106,
   "metadata": {
    "scrolled": true
   },
   "outputs": [
    {
     "name": "stdout",
     "output_type": "stream",
     "text": [
      "['NO_TOPIC', 'earn', 'acq', 'money-fx', 'grain', 'crude', 'trade', 'interest', 'wheat', 'ship', 'corn', 'oilseed', 'sugar', 'coffee', 'gold', 'veg-oil', 'money-supply', 'dlr', 'gnp', 'livestock', 'soybean', 'nat-gas', 'bop', 'cpi', 'carcass', 'copper', 'reserves', 'cocoa', 'cotton', 'jobs', 'iron-steel', 'rice', 'barley', 'alum', 'rubber', 'ipi', 'meal-feed', 'gas', 'palm-oil', 'yen', 'silver', 'zinc', 'pet-chem', 'sorghum', 'rapeseed', 'strategic-metal', 'tin', 'wpi', 'orange', 'lead', 'retail', 'hog', 'heat', 'soy-oil', 'housing', 'soy-meal', 'fuel', 'dmk', 'lei', 'lumber', 'nickel', 'stg', 'oat', 'tea', 'sunseed', 'sun-oil', 'platinum', 'rape-oil', 'l-cattle', 'groundnut', 'plywood', 'jet', 'income', 'coconut', 'tapioca', 'propane', 'potato', 'instal-debt', 'coconut-oil', 'inventories', 'linseed', 'copra-cake', 'palmkernel', 'cornglutenfeed', 'wool', 'saudriyal', 'fishmeal', 'palladium', 'cpu', 'austdlr', 'naphtha', 'pork-belly', 'lin-oil', 'rye', 'red-bean', 'groundnut-oil', 'citruspulp', 'rape-meal', 'can', 'dfl', 'corn-oil', 'peseta', 'cotton-oil', 'nzdlr', 'rand', 'ringgit', 'castorseed', 'castor-oil', 'lit', 'rupiah', 'skr', 'nkr', 'dkr', 'sun-meal', 'lin-meal']\n"
     ]
    }
   ],
   "source": [
    "train_topics_sorted = Counter([t for topics in train_topics for t in topics]).most_common(200)\n",
    "print([topic for topic, count in train_topics_sorted])"
   ]
  },
  {
   "cell_type": "code",
   "execution_count": 107,
   "metadata": {},
   "outputs": [
    {
     "name": "stdout",
     "output_type": "stream",
     "text": [
      "[5540, 2687, 1447, 397, 371, 309, 281, 254, 192, 178, 148, 108, 108, 97, 92, 83, 80, 80, 79, 70, 65, 63, 55, 54, 48, 46, 44, 39, 37, 36, 35, 34, 33, 32, 31, 31, 29, 29, 28, 26, 21, 21, 20, 18, 18, 16, 16, 16, 15, 15, 14, 14, 14, 13, 13, 12, 12, 10, 9, 9, 8, 8, 7, 7, 6, 5, 5, 5, 5, 5, 4, 4, 4, 4, 3, 3, 3, 3, 3, 3, 2, 2, 2, 2, 2, 2, 2, 2, 2, 2, 2, 2, 1, 1, 1, 1, 1, 1, 1, 1, 1, 1, 1, 1, 1, 1, 1, 1, 1, 1, 1, 1, 1, 1, 1]\n"
     ]
    }
   ],
   "source": [
    "print([count for topic, count in train_topics_sorted])"
   ]
  },
  {
   "cell_type": "markdown",
   "metadata": {},
   "source": [
    "## Document Lengths"
   ]
  },
  {
   "cell_type": "code",
   "execution_count": 111,
   "metadata": {},
   "outputs": [],
   "source": [
    "train_docs, _, _ = read_data(train_path)"
   ]
  },
  {
   "cell_type": "code",
   "execution_count": 112,
   "metadata": {},
   "outputs": [],
   "source": [
    "doc_lens = [len(doc.split(' ')) for doc in train_docs]"
   ]
  },
  {
   "cell_type": "code",
   "execution_count": 115,
   "metadata": {},
   "outputs": [
    {
     "data": {
      "text/plain": [
       "Text(0, 0.5, 'frequency')"
      ]
     },
     "execution_count": 115,
     "metadata": {},
     "output_type": "execute_result"
    },
    {
     "data": {
      "image/png": "[encoded data removed]",
      "text/plain": [
       "<Figure size 432x288 with 1 Axes>"
      ]
     },
     "metadata": {
      "needs_background": "light"
     },
     "output_type": "display_data"
    }
   ],
   "source": [
    "plt.hist(doc_lens, bins=50)\n",
    "plt.xlabel('document length [num of tokens]')\n",
    "plt.ylabel('frequency')"
   ]
  },
  {
   "cell_type": "code",
   "execution_count": null,
   "metadata": {},
   "outputs": [],
   "source": []
  }
 ],
 "metadata": {
  "kernelspec": {
   "display_name": "Python 3",
   "language": "python",
   "name": "python3"
  },
  "language_info": {
   "codemirror_mode": {
    "name": "ipython",
    "version": 3
   },
   "file_extension": ".py",
   "mimetype": "text/x-python",
   "name": "python",
   "nbconvert_exporter": "python",
   "pygments_lexer": "ipython3",
   "version": "3.7.3"
  },
  "toc": {
   "base_numbering": 1,
   "nav_menu": {},
   "number_sections": true,
   "sideBar": true,
   "skip_h1_title": false,
   "title_cell": "Table of Contents",
   "title_sidebar": "Contents",
   "toc_cell": true,
   "toc_position": {},
   "toc_section_display": true,
   "toc_window_display": true
  }
 },
 "nbformat": 4,
 "nbformat_minor": 2
}
